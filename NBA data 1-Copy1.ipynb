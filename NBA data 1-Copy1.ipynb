{
 "cells": [
  {
   "cell_type": "code",
   "execution_count": 3,
   "id": "e63d7978",
   "metadata": {},
   "outputs": [
    {
     "name": "stdout",
     "output_type": "stream",
     "text": [
      "Requirement already satisfied: nba_api in /Users/jonnyfalls/opt/anaconda3/lib/python3.9/site-packages (1.4.1)\r\n",
      "Requirement already satisfied: certifi<2024.0.0,>=2023.7.22 in /Users/jonnyfalls/opt/anaconda3/lib/python3.9/site-packages (from nba_api) (2023.11.17)\r\n",
      "Requirement already satisfied: requests<3.0,>=2.31 in /Users/jonnyfalls/opt/anaconda3/lib/python3.9/site-packages (from nba_api) (2.31.0)\r\n",
      "Requirement already satisfied: numpy<2.0.0,>=1.22.2 in /Users/jonnyfalls/opt/anaconda3/lib/python3.9/site-packages (from nba_api) (1.26.4)\r\n",
      "Requirement already satisfied: idna<4,>=2.5 in /Users/jonnyfalls/opt/anaconda3/lib/python3.9/site-packages (from requests<3.0,>=2.31->nba_api) (3.2)\r\n",
      "Requirement already satisfied: charset-normalizer<4,>=2 in /Users/jonnyfalls/opt/anaconda3/lib/python3.9/site-packages (from requests<3.0,>=2.31->nba_api) (2.0.4)\r\n",
      "Requirement already satisfied: urllib3<3,>=1.21.1 in /Users/jonnyfalls/opt/anaconda3/lib/python3.9/site-packages (from requests<3.0,>=2.31->nba_api) (1.26.7)\r\n"
     ]
    }
   ],
   "source": [
    "#Import NBA data\n",
    "\n",
    "!pip install nba_api\n",
    "\n",
    "#import nba_api \n",
    "#import matplotlib.pyplot as plt"
   ]
  },
  {
   "cell_type": "code",
   "execution_count": 4,
   "id": "0a0abc26",
   "metadata": {},
   "outputs": [
    {
     "data": {
      "text/html": [
       "<div>\n",
       "<style scoped>\n",
       "    .dataframe tbody tr th:only-of-type {\n",
       "        vertical-align: middle;\n",
       "    }\n",
       "\n",
       "    .dataframe tbody tr th {\n",
       "        vertical-align: top;\n",
       "    }\n",
       "\n",
       "    .dataframe thead th {\n",
       "        text-align: right;\n",
       "    }\n",
       "</style>\n",
       "<table border=\"1\" class=\"dataframe\">\n",
       "  <thead>\n",
       "    <tr style=\"text-align: right;\">\n",
       "      <th></th>\n",
       "      <th>TEAM_ID</th>\n",
       "      <th>SEASON_YEAR</th>\n",
       "      <th>TEAM_CITY</th>\n",
       "      <th>TEAM_NAME</th>\n",
       "      <th>TEAM_ABBREVIATION</th>\n",
       "      <th>TEAM_CONFERENCE</th>\n",
       "      <th>TEAM_DIVISION</th>\n",
       "      <th>TEAM_CODE</th>\n",
       "      <th>TEAM_SLUG</th>\n",
       "      <th>W</th>\n",
       "      <th>L</th>\n",
       "      <th>PCT</th>\n",
       "      <th>CONF_RANK</th>\n",
       "      <th>DIV_RANK</th>\n",
       "      <th>MIN_YEAR</th>\n",
       "      <th>MAX_YEAR</th>\n",
       "    </tr>\n",
       "  </thead>\n",
       "  <tbody>\n",
       "    <tr>\n",
       "      <th>0</th>\n",
       "      <td>1610612747</td>\n",
       "      <td>2023-24</td>\n",
       "      <td>Los Angeles</td>\n",
       "      <td>Lakers</td>\n",
       "      <td>LAL</td>\n",
       "      <td>West</td>\n",
       "      <td>Pacific</td>\n",
       "      <td>lakers</td>\n",
       "      <td>lakers</td>\n",
       "      <td>33</td>\n",
       "      <td>28</td>\n",
       "      <td>0.541</td>\n",
       "      <td>10</td>\n",
       "      <td>5</td>\n",
       "      <td>1948</td>\n",
       "      <td>2023</td>\n",
       "    </tr>\n",
       "  </tbody>\n",
       "</table>\n",
       "</div>"
      ],
      "text/plain": [
       "      TEAM_ID SEASON_YEAR    TEAM_CITY TEAM_NAME TEAM_ABBREVIATION  \\\n",
       "0  1610612747     2023-24  Los Angeles    Lakers               LAL   \n",
       "\n",
       "  TEAM_CONFERENCE TEAM_DIVISION TEAM_CODE TEAM_SLUG   W   L    PCT  CONF_RANK  \\\n",
       "0            West       Pacific    lakers    lakers  33  28  0.541         10   \n",
       "\n",
       "   DIV_RANK MIN_YEAR MAX_YEAR  \n",
       "0         5     1948     2023  "
      ]
     },
     "execution_count": 4,
     "metadata": {},
     "output_type": "execute_result"
    }
   ],
   "source": [
    "from nba_api.stats.endpoints import TeamInfoCommon\n",
    "\n",
    "\n",
    "team_info_common = TeamInfoCommon(\n",
    "        league_id = '00', # nba 00, g_league 20, wnba 10\n",
    "        team_id = '1610612747', # select one team_id\n",
    "        season_type_nullable = 'Regular Season', # Regular Season, Playoffs, Pre Season' \n",
    ")\n",
    "df_team_list = team_info_common.get_data_frames()[0]\n",
    "df_team_list"
   ]
  },
  {
   "cell_type": "code",
   "execution_count": null,
   "id": "a555dd9c",
   "metadata": {},
   "outputs": [],
   "source": []
  }
 ],
 "metadata": {
  "kernelspec": {
   "display_name": "Python 3 (ipykernel)",
   "language": "python",
   "name": "python3"
  },
  "language_info": {
   "codemirror_mode": {
    "name": "ipython",
    "version": 3
   },
   "file_extension": ".py",
   "mimetype": "text/x-python",
   "name": "python",
   "nbconvert_exporter": "python",
   "pygments_lexer": "ipython3",
   "version": "3.9.7"
  }
 },
 "nbformat": 4,
 "nbformat_minor": 5
}
